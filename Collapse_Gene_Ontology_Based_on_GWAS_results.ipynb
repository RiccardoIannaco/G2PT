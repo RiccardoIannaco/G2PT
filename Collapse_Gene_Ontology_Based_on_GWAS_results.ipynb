{
 "cells": [
  {
   "cell_type": "markdown",
   "id": "e40b828e-9bdd-4e01-9b16-c0d050253827",
   "metadata": {
    "pycharm": {
     "name": "#%% md\n"
    }
   },
   "source": [
    "# Example GO Pruning Using TreeParser"
   ]
  },
  {
   "cell_type": "code",
   "execution_count": 1,
   "id": "5b6f9c19-a909-4fd0-91de-f95b3f802c58",
   "metadata": {
    "pycharm": {
     "name": "#%%\n"
    }
   },
   "outputs": [],
   "source": [
    "import pandas as pd\n",
    "from src.utils.tree import TreeParser"
   ]
  },
  {
   "cell_type": "markdown",
   "id": "2ee60fbd-07ef-4e2b-8a47-98e056be9622",
   "metadata": {
    "pycharm": {
     "name": "#%% md\n"
    }
   },
   "source": [
    "Let's load full GO and initialize tree_parser"
   ]
  },
  {
   "cell_type": "code",
   "execution_count": 2,
   "id": "7ebe623d-d849-44e8-b0cf-de6e041e5faf",
   "metadata": {
    "pycharm": {
     "name": "#%%\n"
    }
   },
   "outputs": [],
   "source": [
    "ont = 'GO_files/GO_BP_full.txt'"
   ]
  },
  {
   "cell_type": "code",
   "execution_count": 3,
   "id": "36b77dd6-b375-4589-b603-8851b148579a",
   "metadata": {
    "pycharm": {
     "name": "#%%\n"
    }
   },
   "outputs": [
    {
     "name": "stdout",
     "output_type": "stream",
     "text": [
      "27596 Systems are queried\n",
      "17775 Genes are queried\n",
      "Total 134564 Gene-System interactions are queried\n",
      "Building descendant dict\n",
      "Subtree types:  ['default']\n"
     ]
    }
   ],
   "source": [
    "tree_parser = TreeParser(ont, sys_annot_file='GO_files/goID_2_name.tab')"
   ]
  },
  {
   "cell_type": "markdown",
   "id": "a9a19469-71d8-4323-8a7f-5c94dfcdd8a3",
   "metadata": {
    "pycharm": {
     "name": "#%% md\n"
    }
   },
   "source": [
    "## Download GWAS statistics\n",
    "\n",
    "This is example, so let's download a random GWAS statistics from GWAS catalog"
   ]
  },
  {
   "cell_type": "code",
   "execution_count": 4,
   "id": "9a4a3399-a9d9-4f38-9843-a2f5d118b51e",
   "metadata": {
    "pycharm": {
     "name": "#%%\n"
    }
   },
   "outputs": [
    {
     "name": "stdout",
     "output_type": "stream",
     "text": [
      "--2025-02-10 11:41:09--  https://ftp.ebi.ac.uk/pub/databases/gwas/summary_statistics/GCST90257001-GCST90258000/GCST90257283/GCST90257283.tsv.gz\n",
      "Resolving ftp.ebi.ac.uk (ftp.ebi.ac.uk)... 193.62.193.165\n",
      "Connecting to ftp.ebi.ac.uk (ftp.ebi.ac.uk)|193.62.193.165|:443... connected.\n",
      "HTTP request sent, awaiting response... 200 OK\n",
      "Length: 216858141 (207M) [application/x-gzip]\n",
      "Saving to: ‘GCST90257283.tsv.gz’\n",
      "\n",
      "GCST90257283.tsv.gz 100%[===================>] 206.81M  20.7MB/s    in 11s     \n",
      "\n",
      "2025-02-10 11:41:22 (19.2 MB/s) - ‘GCST90257283.tsv.gz’ saved [216858141/216858141]\n",
      "\n"
     ]
    }
   ],
   "source": [
    "!wget https://ftp.ebi.ac.uk/pub/databases/gwas/summary_statistics/GCST90257001-GCST90258000/GCST90257283/GCST90257283.tsv.gz"
   ]
  },
  {
   "cell_type": "markdown",
   "id": "45928972-b6d7-4d5c-a101-a09cc969433b",
   "metadata": {
    "pycharm": {
     "name": "#%% md\n"
    }
   },
   "source": [
    "## Load GWAS statistics"
   ]
  },
  {
   "cell_type": "code",
   "execution_count": 5,
   "id": "ee2eae03-81a0-4732-95c0-e972a42bcb76",
   "metadata": {
    "pycharm": {
     "name": "#%%\n"
    }
   },
   "outputs": [],
   "source": [
    "gwas_results = pd.read_csv('GCST90257283.tsv.gz', sep='\\t', compression='gzip')"
   ]
  },
  {
   "cell_type": "code",
   "execution_count": 6,
   "id": "d8cbf064-03af-4f66-9b24-aebe808563e0",
   "metadata": {
    "pycharm": {
     "name": "#%%\n"
    }
   },
   "outputs": [
    {
     "data": {
      "text/plain": [
       "(9097072, 10)"
      ]
     },
     "execution_count": 6,
     "metadata": {},
     "output_type": "execute_result"
    }
   ],
   "source": [
    "gwas_results.shape"
   ]
  },
  {
   "cell_type": "code",
   "execution_count": 7,
   "id": "598d93fa-71f6-4021-a996-96992f041b7c",
   "metadata": {
    "pycharm": {
     "name": "#%%\n"
    }
   },
   "outputs": [
    {
     "data": {
      "text/html": [
       "<div>\n",
       "<style scoped>\n",
       "    .dataframe tbody tr th:only-of-type {\n",
       "        vertical-align: middle;\n",
       "    }\n",
       "\n",
       "    .dataframe tbody tr th {\n",
       "        vertical-align: top;\n",
       "    }\n",
       "\n",
       "    .dataframe thead th {\n",
       "        text-align: right;\n",
       "    }\n",
       "</style>\n",
       "<table border=\"1\" class=\"dataframe\">\n",
       "  <thead>\n",
       "    <tr style=\"text-align: right;\">\n",
       "      <th></th>\n",
       "      <th>snpid</th>\n",
       "      <th>chromosome</th>\n",
       "      <th>base_pair_location</th>\n",
       "      <th>other_allele</th>\n",
       "      <th>effect_allele</th>\n",
       "      <th>beta</th>\n",
       "      <th>standard_error</th>\n",
       "      <th>effect_allele_frequency</th>\n",
       "      <th>Qual</th>\n",
       "      <th>p_value</th>\n",
       "    </tr>\n",
       "  </thead>\n",
       "  <tbody>\n",
       "    <tr>\n",
       "      <th>0</th>\n",
       "      <td>chr1:710225:T:A</td>\n",
       "      <td>1</td>\n",
       "      <td>710225</td>\n",
       "      <td>T</td>\n",
       "      <td>A</td>\n",
       "      <td>-0.087379</td>\n",
       "      <td>0.118473</td>\n",
       "      <td>0.05</td>\n",
       "      <td>0.23150</td>\n",
       "      <td>0.460793</td>\n",
       "    </tr>\n",
       "    <tr>\n",
       "      <th>1</th>\n",
       "      <td>chr1:722408:G:C</td>\n",
       "      <td>1</td>\n",
       "      <td>722408</td>\n",
       "      <td>G</td>\n",
       "      <td>C</td>\n",
       "      <td>-0.029680</td>\n",
       "      <td>0.042131</td>\n",
       "      <td>0.75</td>\n",
       "      <td>0.51800</td>\n",
       "      <td>0.481133</td>\n",
       "    </tr>\n",
       "    <tr>\n",
       "      <th>2</th>\n",
       "      <td>chr1:722700:G:A</td>\n",
       "      <td>1</td>\n",
       "      <td>722700</td>\n",
       "      <td>G</td>\n",
       "      <td>A</td>\n",
       "      <td>0.105705</td>\n",
       "      <td>0.136230</td>\n",
       "      <td>0.00</td>\n",
       "      <td>0.43333</td>\n",
       "      <td>0.437792</td>\n",
       "    </tr>\n",
       "    <tr>\n",
       "      <th>3</th>\n",
       "      <td>chr1:727233:G:A</td>\n",
       "      <td>1</td>\n",
       "      <td>727233</td>\n",
       "      <td>G</td>\n",
       "      <td>A</td>\n",
       "      <td>-0.135374</td>\n",
       "      <td>0.148444</td>\n",
       "      <td>0.00</td>\n",
       "      <td>0.31792</td>\n",
       "      <td>0.361793</td>\n",
       "    </tr>\n",
       "    <tr>\n",
       "      <th>4</th>\n",
       "      <td>chr1:727242:G:A</td>\n",
       "      <td>1</td>\n",
       "      <td>727242</td>\n",
       "      <td>G</td>\n",
       "      <td>A</td>\n",
       "      <td>0.036811</td>\n",
       "      <td>0.050237</td>\n",
       "      <td>0.10</td>\n",
       "      <td>0.69987</td>\n",
       "      <td>0.463714</td>\n",
       "    </tr>\n",
       "  </tbody>\n",
       "</table>\n",
       "</div>"
      ],
      "text/plain": [
       "             snpid  chromosome  base_pair_location other_allele effect_allele  \\\n",
       "0  chr1:710225:T:A           1              710225            T             A   \n",
       "1  chr1:722408:G:C           1              722408            G             C   \n",
       "2  chr1:722700:G:A           1              722700            G             A   \n",
       "3  chr1:727233:G:A           1              727233            G             A   \n",
       "4  chr1:727242:G:A           1              727242            G             A   \n",
       "\n",
       "       beta  standard_error  effect_allele_frequency     Qual   p_value  \n",
       "0 -0.087379        0.118473                     0.05  0.23150  0.460793  \n",
       "1 -0.029680        0.042131                     0.75  0.51800  0.481133  \n",
       "2  0.105705        0.136230                     0.00  0.43333  0.437792  \n",
       "3 -0.135374        0.148444                     0.00  0.31792  0.361793  \n",
       "4  0.036811        0.050237                     0.10  0.69987  0.463714  "
      ]
     },
     "execution_count": 7,
     "metadata": {},
     "output_type": "execute_result"
    }
   ],
   "source": [
    "gwas_results.head()"
   ]
  },
  {
   "cell_type": "markdown",
   "id": "2bfdc17a-cfce-4cab-bc73-e086b471ed41",
   "metadata": {
    "pycharm": {
     "name": "#%% md\n"
    }
   },
   "source": [
    "## Nearest Gene Case\n",
    "\n",
    "If you already have a nice SNP2Gene mapping from any other sources, **please skip this section**\n",
    "\n",
    ",and use your own SNP2Gene mapping"
   ]
  },
  {
   "cell_type": "markdown",
   "id": "37f93ca3-b851-4c1a-9873-96372b7cd98c",
   "metadata": {
    "pycharm": {
     "name": "#%% md\n"
    }
   },
   "source": [
    "### Load gtf file"
   ]
  },
  {
   "cell_type": "markdown",
   "source": [
    "you can download gtf file for GRCh37 here (https://ftp.ensembl.org/pub/grch37/release-87/gtf/homo_sapiens/)"
   ],
   "metadata": {
    "collapsed": false,
    "pycharm": {
     "name": "#%% md\n"
    }
   }
  },
  {
   "cell_type": "code",
   "execution_count": 8,
   "id": "29dceb0f-f421-47cf-be97-7a0808a3e02c",
   "metadata": {
    "pycharm": {
     "name": "#%%\n"
    }
   },
   "outputs": [
    {
     "name": "stderr",
     "output_type": "stream",
     "text": [
      "/tmp/ipykernel_3319165/3709028026.py:1: DtypeWarning: Columns (0) have mixed types. Specify dtype option on import or set low_memory=False.\n",
      "  gtf = pd.read_csv(\"GO_files/Homo_sapiens.GRCh37.87.gtf\", skiprows=5, sep='\\t', header=None)\n"
     ]
    }
   ],
   "source": [
    "gtf = pd.read_csv(\"GO_files/Homo_sapiens.GRCh37.87.gtf\", skiprows=5, sep='\\t', header=None)"
   ]
  },
  {
   "cell_type": "code",
   "execution_count": 9,
   "id": "543c4c28-9b79-48c1-9f17-bc33c2cb5f63",
   "metadata": {
    "pycharm": {
     "name": "#%%\n"
    }
   },
   "outputs": [],
   "source": [
    "gtf.columns = [\"CHR\", \"POS\", \"type\", \"start\", \"end\", \"..\", \"strand\", \"...\", \"properties\"]"
   ]
  },
  {
   "cell_type": "code",
   "execution_count": 10,
   "id": "ede29c27-fe24-4eaa-aec1-7a44417c0adb",
   "metadata": {
    "pycharm": {
     "name": "#%%\n"
    }
   },
   "outputs": [],
   "source": [
    "def get_nearst_gene(gtf, chromosome, pos):\n",
    "    try:\n",
    "        gtf_chromosome = gtf[gtf['CHR'] == chromosome]\n",
    "\n",
    "        # Calculate the distance from the SNP to the start and end of each gene\n",
    "        gtf_chromosome['distance_to_start'] = abs(gtf_chromosome['start'] - pos)\n",
    "        gtf_chromosome['distance_to_end'] = abs(gtf_chromosome['end'] - pos)\n",
    "        # Find the minimum distance\n",
    "        gtf_chromosome['min_distance'] = gtf_chromosome[['distance_to_start', 'distance_to_end']].min(axis=1)\n",
    "        nearest_gene = gtf_chromosome.loc[gtf_chromosome['min_distance'].idxmin()]\n",
    "        return nearest_gene[\"gene_name\"]\n",
    "    except:\n",
    "        return None\n",
    "\n",
    "def get_property_dict(values):\n",
    "    result_dict = {}\n",
    "    for prop in values.strip().split(\";\")[:-1]:\n",
    "        #print(prop.strip())\n",
    "        key = prop.strip().split(\" \")[0]\n",
    "        value = prop.strip().split(\" \")[1][1:-1]\n",
    "        #print(prop.strip().split(\" \")[1])\n",
    "        result_dict[key] = value\n",
    "    return result_dict\n",
    "\n",
    "\n",
    "def normalize_chrome(value):\n",
    "    if type(value)==int:\n",
    "        return value\n",
    "    elif value.isdigit():\n",
    "        return int(value)\n",
    "    else:\n",
    "        return value"
   ]
  },
  {
   "cell_type": "markdown",
   "id": "b767c7a4-f2d2-4d03-b904-7e47f3385e90",
   "metadata": {
    "pycharm": {
     "name": "#%% md\n"
    }
   },
   "source": [
    "Process gtf file.."
   ]
  },
  {
   "cell_type": "code",
   "execution_count": 11,
   "id": "985e3b07-96f7-4e74-ac7e-7dd9fb28fdd2",
   "metadata": {
    "pycharm": {
     "name": "#%%\n"
    }
   },
   "outputs": [],
   "source": [
    "gtf['CHR'] = gtf.CHR.map(normalize_chrome)\n",
    "gtf[\"properties\"] = gtf[\"properties\"].map(get_property_dict)\n",
    "gtf[\"gene_name\"] = gtf[\"properties\"].map(lambda a: a[\"gene_name\"] if \"gene_name\" in a.keys() else None)\n",
    "gtf[\"gene_biotype\"] = gtf[\"properties\"].map(lambda a: a[\"gene_biotype\"] if \"gene_biotype\" in a.keys() else None)\n",
    "gtf = gtf.loc[(gtf['gene_biotype']=='protein_coding') & (gtf['type']=='gene')]"
   ]
  },
  {
   "cell_type": "markdown",
   "id": "06407452-9b12-4da6-a0a7-cc5403af89a1",
   "metadata": {
    "pycharm": {
     "name": "#%% md\n"
    }
   },
   "source": [
    "## Collapse Ontology based on GWAS"
   ]
  },
  {
   "cell_type": "code",
   "execution_count": 12,
   "id": "afc029d0-ac5f-4569-98d9-af3c55e031bc",
   "metadata": {
    "pycharm": {
     "name": "#%%\n"
    }
   },
   "outputs": [],
   "source": [
    "pval_col = 'p_value'\n",
    "pval_threshold = 1e-4"
   ]
  },
  {
   "cell_type": "code",
   "execution_count": 13,
   "id": "f210e951-39a2-4cd1-b669-40352592498b",
   "metadata": {
    "pycharm": {
     "name": "#%%\n"
    }
   },
   "outputs": [],
   "source": [
    "gwas_results_sig = gwas_results.loc[gwas_results[pval_col] <= pval_threshold]"
   ]
  },
  {
   "cell_type": "code",
   "execution_count": 14,
   "id": "dba8c929-ec3b-410d-8e3a-6e339b990d12",
   "metadata": {
    "pycharm": {
     "name": "#%%\n"
    }
   },
   "outputs": [
    {
     "name": "stderr",
     "output_type": "stream",
     "text": [
      "/tmp/ipykernel_3319165/577714839.py:2: SettingWithCopyWarning: \n",
      "A value is trying to be set on a copy of a slice from a DataFrame.\n",
      "Try using .loc[row_indexer,col_indexer] = value instead\n",
      "\n",
      "See the caveats in the documentation: https://pandas.pydata.org/pandas-docs/stable/user_guide/indexing.html#returning-a-view-versus-a-copy\n",
      "  gwas_results_sig['gene_name'] = nearest_genes\n"
     ]
    }
   ],
   "source": [
    "nearest_genes = gwas_results_sig.apply(lambda snp_info: get_nearst_gene(gtf, snp_info.chromosome, snp_info.base_pair_location), axis=1) # change snp_info.chromosome and snp_info.base_pair_location as your GWAS statistics\n",
    "gwas_results_sig['gene_name'] = nearest_genes"
   ]
  },
  {
   "cell_type": "code",
   "execution_count": 15,
   "id": "ec75cf1a-f716-42ea-9d16-4a04524355a7",
   "metadata": {
    "pycharm": {
     "name": "#%%\n"
    }
   },
   "outputs": [
    {
     "data": {
      "text/html": [
       "<div>\n",
       "<style scoped>\n",
       "    .dataframe tbody tr th:only-of-type {\n",
       "        vertical-align: middle;\n",
       "    }\n",
       "\n",
       "    .dataframe tbody tr th {\n",
       "        vertical-align: top;\n",
       "    }\n",
       "\n",
       "    .dataframe thead th {\n",
       "        text-align: right;\n",
       "    }\n",
       "</style>\n",
       "<table border=\"1\" class=\"dataframe\">\n",
       "  <thead>\n",
       "    <tr style=\"text-align: right;\">\n",
       "      <th></th>\n",
       "      <th>snpid</th>\n",
       "      <th>chromosome</th>\n",
       "      <th>base_pair_location</th>\n",
       "      <th>other_allele</th>\n",
       "      <th>effect_allele</th>\n",
       "      <th>beta</th>\n",
       "      <th>standard_error</th>\n",
       "      <th>effect_allele_frequency</th>\n",
       "      <th>Qual</th>\n",
       "      <th>p_value</th>\n",
       "      <th>gene_name</th>\n",
       "    </tr>\n",
       "  </thead>\n",
       "  <tbody>\n",
       "    <tr>\n",
       "      <th>121914</th>\n",
       "      <td>chr1:39594106:A:G</td>\n",
       "      <td>1</td>\n",
       "      <td>39594106</td>\n",
       "      <td>A</td>\n",
       "      <td>G</td>\n",
       "      <td>0.110808</td>\n",
       "      <td>0.027581</td>\n",
       "      <td>0.35</td>\n",
       "      <td>0.98547</td>\n",
       "      <td>0.000059</td>\n",
       "      <td>MACF1</td>\n",
       "    </tr>\n",
       "    <tr>\n",
       "      <th>122064</th>\n",
       "      <td>chr1:39642015:G:A</td>\n",
       "      <td>1</td>\n",
       "      <td>39642015</td>\n",
       "      <td>G</td>\n",
       "      <td>A</td>\n",
       "      <td>-0.191866</td>\n",
       "      <td>0.049165</td>\n",
       "      <td>0.10</td>\n",
       "      <td>0.98063</td>\n",
       "      <td>0.000095</td>\n",
       "      <td>MACF1</td>\n",
       "    </tr>\n",
       "    <tr>\n",
       "      <th>122143</th>\n",
       "      <td>chr1:39673690:C:T</td>\n",
       "      <td>1</td>\n",
       "      <td>39673690</td>\n",
       "      <td>C</td>\n",
       "      <td>T</td>\n",
       "      <td>-0.280666</td>\n",
       "      <td>0.070832</td>\n",
       "      <td>0.05</td>\n",
       "      <td>0.99305</td>\n",
       "      <td>0.000074</td>\n",
       "      <td>MACF1</td>\n",
       "    </tr>\n",
       "    <tr>\n",
       "      <th>180947</th>\n",
       "      <td>chr1:60663562:A:T</td>\n",
       "      <td>1</td>\n",
       "      <td>60663562</td>\n",
       "      <td>A</td>\n",
       "      <td>T</td>\n",
       "      <td>-0.503807</td>\n",
       "      <td>0.127223</td>\n",
       "      <td>0.00</td>\n",
       "      <td>0.83033</td>\n",
       "      <td>0.000075</td>\n",
       "      <td>C1orf87</td>\n",
       "    </tr>\n",
       "    <tr>\n",
       "      <th>237131</th>\n",
       "      <td>chr1:78797567:A:C</td>\n",
       "      <td>1</td>\n",
       "      <td>78797567</td>\n",
       "      <td>A</td>\n",
       "      <td>C</td>\n",
       "      <td>0.112562</td>\n",
       "      <td>0.026526</td>\n",
       "      <td>0.50</td>\n",
       "      <td>0.96910</td>\n",
       "      <td>0.000022</td>\n",
       "      <td>PTGFR</td>\n",
       "    </tr>\n",
       "  </tbody>\n",
       "</table>\n",
       "</div>"
      ],
      "text/plain": [
       "                    snpid  chromosome  base_pair_location other_allele  \\\n",
       "121914  chr1:39594106:A:G           1            39594106            A   \n",
       "122064  chr1:39642015:G:A           1            39642015            G   \n",
       "122143  chr1:39673690:C:T           1            39673690            C   \n",
       "180947  chr1:60663562:A:T           1            60663562            A   \n",
       "237131  chr1:78797567:A:C           1            78797567            A   \n",
       "\n",
       "       effect_allele      beta  standard_error  effect_allele_frequency  \\\n",
       "121914             G  0.110808        0.027581                     0.35   \n",
       "122064             A -0.191866        0.049165                     0.10   \n",
       "122143             T -0.280666        0.070832                     0.05   \n",
       "180947             T -0.503807        0.127223                     0.00   \n",
       "237131             C  0.112562        0.026526                     0.50   \n",
       "\n",
       "           Qual   p_value gene_name  \n",
       "121914  0.98547  0.000059     MACF1  \n",
       "122064  0.98063  0.000095     MACF1  \n",
       "122143  0.99305  0.000074     MACF1  \n",
       "180947  0.83033  0.000075   C1orf87  \n",
       "237131  0.96910  0.000022     PTGFR  "
      ]
     },
     "execution_count": 15,
     "metadata": {},
     "output_type": "execute_result"
    }
   ],
   "source": [
    "gwas_results_sig.head()"
   ]
  },
  {
   "cell_type": "code",
   "execution_count": 16,
   "id": "0be6746b-6ec9-4a96-bf6c-ca5f51922cf1",
   "metadata": {
    "pycharm": {
     "name": "#%%\n"
    }
   },
   "outputs": [],
   "source": [
    "sig_genes = gwas_results_sig['gene_name'].unique()"
   ]
  },
  {
   "cell_type": "code",
   "execution_count": 17,
   "id": "17d898d4-8279-47cc-a486-26e5c70a96da",
   "metadata": {
    "pycharm": {
     "name": "#%%\n"
    }
   },
   "outputs": [
    {
     "data": {
      "text/plain": [
       "237"
      ]
     },
     "execution_count": 17,
     "metadata": {},
     "output_type": "execute_result"
    }
   ],
   "source": [
    "len(sig_genes)"
   ]
  },
  {
   "cell_type": "markdown",
   "id": "3ca9f358-4cbb-48ce-ac20-130fb99c6366",
   "metadata": {
    "pycharm": {
     "name": "#%% md\n"
    }
   },
   "source": [
    "`retain_genes` function will filter out non significant genes from hierarchy"
   ]
  },
  {
   "cell_type": "code",
   "execution_count": 18,
   "id": "7dc65c59-5ef2-45f5-b9eb-13297870edbf",
   "metadata": {
    "pycharm": {
     "name": "#%%\n"
    }
   },
   "outputs": [
    {
     "name": "stdout",
     "output_type": "stream",
     "text": [
      "27596 Systems are queried\n",
      "191 Genes are queried\n",
      "Total 1610 Gene-System interactions are queried\n",
      "Building descendant dict\n",
      "Subtree types:  ['default']\n"
     ]
    }
   ],
   "source": [
    "tree_parser.retain_genes(sig_genes)"
   ]
  },
  {
   "cell_type": "markdown",
   "id": "0517aaf0-b9dd-43e6-b84e-329c866eb52c",
   "metadata": {
    "pycharm": {
     "name": "#%% md\n"
    }
   },
   "source": [
    "`collapse` function will collapse ontology based on retained genes. use `min_term_size` to make sure smallest system to have at least N genes"
   ]
  },
  {
   "cell_type": "code",
   "execution_count": 19,
   "id": "c2e94252-26f8-412e-ab03-e379485bfa8d",
   "metadata": {
    "pycharm": {
     "name": "#%%\n"
    }
   },
   "outputs": [
    {
     "name": "stdout",
     "output_type": "stream",
     "text": [
      "The number of nodes to collapse: 27116\n",
      "480 Systems are queried\n",
      "191 Genes are queried\n",
      "Total 3039 Gene-System interactions are queried\n",
      "Building descendant dict\n",
      "Subtree types:  ['default']\n"
     ]
    }
   ],
   "source": [
    "tree_parser.collapse(min_term_size=5)"
   ]
  },
  {
   "cell_type": "markdown",
   "id": "35c70efd-9a95-476c-b941-639b3f41e2f8",
   "metadata": {
    "pycharm": {
     "name": "#%% md\n"
    }
   },
   "source": [
    "You can collapse until the number of systems in hierarchy becomes same after collapse (this is optional!)"
   ]
  },
  {
   "cell_type": "code",
   "execution_count": 20,
   "id": "c27b45a4-66e6-4996-b6c3-e900c494946f",
   "metadata": {
    "pycharm": {
     "name": "#%%\n"
    }
   },
   "outputs": [
    {
     "name": "stdout",
     "output_type": "stream",
     "text": [
      "The number of nodes to collapse: 179\n",
      "301 Systems are queried\n",
      "191 Genes are queried\n",
      "Total 2024 Gene-System interactions are queried\n",
      "Building descendant dict\n",
      "Subtree types:  ['default']\n"
     ]
    }
   ],
   "source": [
    "tree_parser.collapse(min_term_size=5)"
   ]
  },
  {
   "cell_type": "code",
   "execution_count": 21,
   "id": "9dce8215-4b1e-4d78-bccb-2747484aad38",
   "metadata": {
    "pycharm": {
     "name": "#%%\n"
    }
   },
   "outputs": [
    {
     "data": {
      "text/html": [
       "<div>\n",
       "<style scoped>\n",
       "    .dataframe tbody tr th:only-of-type {\n",
       "        vertical-align: middle;\n",
       "    }\n",
       "\n",
       "    .dataframe tbody tr th {\n",
       "        vertical-align: top;\n",
       "    }\n",
       "\n",
       "    .dataframe thead th {\n",
       "        text-align: right;\n",
       "    }\n",
       "</style>\n",
       "<table border=\"1\" class=\"dataframe\">\n",
       "  <thead>\n",
       "    <tr style=\"text-align: right;\">\n",
       "      <th></th>\n",
       "      <th>parent</th>\n",
       "      <th>child</th>\n",
       "      <th>interaction</th>\n",
       "    </tr>\n",
       "  </thead>\n",
       "  <tbody>\n",
       "    <tr>\n",
       "      <th>0</th>\n",
       "      <td>GO:0022414</td>\n",
       "      <td>GO:0003006</td>\n",
       "      <td>default</td>\n",
       "    </tr>\n",
       "    <tr>\n",
       "      <th>1</th>\n",
       "      <td>GO:0003006</td>\n",
       "      <td>GO:0007548</td>\n",
       "      <td>default</td>\n",
       "    </tr>\n",
       "    <tr>\n",
       "      <th>2</th>\n",
       "      <td>GO:0001775</td>\n",
       "      <td>GO:0045321</td>\n",
       "      <td>default</td>\n",
       "    </tr>\n",
       "    <tr>\n",
       "      <th>3</th>\n",
       "      <td>GO:0045321</td>\n",
       "      <td>GO:0046649</td>\n",
       "      <td>default</td>\n",
       "    </tr>\n",
       "    <tr>\n",
       "      <th>4</th>\n",
       "      <td>GO:0002376</td>\n",
       "      <td>GO:0002252</td>\n",
       "      <td>default</td>\n",
       "    </tr>\n",
       "    <tr>\n",
       "      <th>...</th>\n",
       "      <td>...</td>\n",
       "      <td>...</td>\n",
       "      <td>...</td>\n",
       "    </tr>\n",
       "    <tr>\n",
       "      <th>2506</th>\n",
       "      <td>GO:0060284</td>\n",
       "      <td>MACF1</td>\n",
       "      <td>gene</td>\n",
       "    </tr>\n",
       "    <tr>\n",
       "      <th>2507</th>\n",
       "      <td>GO:0060284</td>\n",
       "      <td>PGLYRP1</td>\n",
       "      <td>gene</td>\n",
       "    </tr>\n",
       "    <tr>\n",
       "      <th>2508</th>\n",
       "      <td>GO:0060284</td>\n",
       "      <td>CR1</td>\n",
       "      <td>gene</td>\n",
       "    </tr>\n",
       "    <tr>\n",
       "      <th>2509</th>\n",
       "      <td>GO:0060284</td>\n",
       "      <td>VEGFC</td>\n",
       "      <td>gene</td>\n",
       "    </tr>\n",
       "    <tr>\n",
       "      <th>2510</th>\n",
       "      <td>GO:0060284</td>\n",
       "      <td>PRMT6</td>\n",
       "      <td>gene</td>\n",
       "    </tr>\n",
       "  </tbody>\n",
       "</table>\n",
       "<p>2511 rows × 3 columns</p>\n",
       "</div>"
      ],
      "text/plain": [
       "          parent       child interaction\n",
       "0     GO:0022414  GO:0003006     default\n",
       "1     GO:0003006  GO:0007548     default\n",
       "2     GO:0001775  GO:0045321     default\n",
       "3     GO:0045321  GO:0046649     default\n",
       "4     GO:0002376  GO:0002252     default\n",
       "...          ...         ...         ...\n",
       "2506  GO:0060284       MACF1        gene\n",
       "2507  GO:0060284     PGLYRP1        gene\n",
       "2508  GO:0060284         CR1        gene\n",
       "2509  GO:0060284       VEGFC        gene\n",
       "2510  GO:0060284       PRMT6        gene\n",
       "\n",
       "[2511 rows x 3 columns]"
      ]
     },
     "execution_count": 21,
     "metadata": {},
     "output_type": "execute_result"
    }
   ],
   "source": [
    "tree_parser.ontology"
   ]
  },
  {
   "cell_type": "markdown",
   "id": "c7dadeee-ffae-46cf-8a1a-93d7c1eb4dc4",
   "metadata": {
    "pycharm": {
     "name": "#%% md\n"
    }
   },
   "source": [
    "Now save your pruned ontology!"
   ]
  },
  {
   "cell_type": "code",
   "execution_count": null,
   "id": "ada6c39e-9edb-44aa-8c03-d86f2c9e88da",
   "metadata": {
    "pycharm": {
     "name": "#%%\n"
    }
   },
   "outputs": [],
   "source": [
    "tree_parser.save_ontology('output_dir')"
   ]
  }
 ],
 "metadata": {
  "kernelspec": {
   "display_name": "Python [conda env:G2PT_github]",
   "language": "python",
   "name": "conda-env-G2PT_github-py"
  },
  "language_info": {
   "codemirror_mode": {
    "name": "ipython",
    "version": 3
   },
   "file_extension": ".py",
   "mimetype": "text/x-python",
   "name": "python",
   "nbconvert_exporter": "python",
   "pygments_lexer": "ipython3",
   "version": "3.8.19"
  }
 },
 "nbformat": 4,
 "nbformat_minor": 5
}